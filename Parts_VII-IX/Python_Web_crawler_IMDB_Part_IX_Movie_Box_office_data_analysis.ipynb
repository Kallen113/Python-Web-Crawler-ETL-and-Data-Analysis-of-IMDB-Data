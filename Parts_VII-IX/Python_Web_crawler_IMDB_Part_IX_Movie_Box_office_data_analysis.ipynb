{
 "cells": [
  {
   "cell_type": "markdown",
   "metadata": {},
   "source": [
    "# IMDB data analysis- Part 9- Analysis of Box Office and IMDB data- cont'd:"
   ]
  },
  {
   "cell_type": "markdown",
   "metadata": {},
   "source": [
    "## This is the 3rd and final part of the box office and IMDB data analysis, and the final notebook overall in this project. "
   ]
  },
  {
   "cell_type": "markdown",
   "metadata": {},
   "source": [
    "# Overview of research questions adressed in this notebook:"
   ]
  },
  {
   "cell_type": "markdown",
   "metadata": {},
   "source": [
    "# Research questions: 1.) Are average IMDB ratings, number of IMDB ratings, or metascore ratings associated with higher box office earnings, among these top box office earners?  "
   ]
  },
  {
   "cell_type": "markdown",
   "metadata": {},
   "source": [
    "# 2.) What are the average IMDB ratings, number of IMDB ratings, and metascore ratings for each movie studio? Have these correlations changed over time?"
   ]
  },
  {
   "cell_type": "markdown",
   "metadata": {},
   "source": [
    "# 3.)  Are any particular movie studios performing better than others in any of these metrics? Are these differences in box office earnings statistically significant?"
   ]
  },
  {
   "cell_type": "markdown",
   "metadata": {},
   "source": [
    "# Overview of Part 9:\n",
    "\n",
    "## This final part of the box office and IMDB dataset  statistical methods will include simple (i.e., univariate) as well as multivariate OLS regression models. This way, one can not only determine the degree of correlation between 2 or more variables, but specific magnitudes can be estimated, as well as weighted correlations between a given outcome/dependent variable (e.g., inflation-adjusted box office earnings) and various covariates/indepedent variables, such as metascores, IMDB ratings, and the number of IMDB ratings. \n",
    "\n",
    "## To answer some of the more nuanced questions, such as whether some movie studios earned a statistically signficant different level of box office revenue, I will also estimate indicator varables for each of the movie studio variables. These indicator variables will then be  used to estimate several additional OLS models, which can be used to compare various movie studios with a particular reference group (one at a time), which can show whether the movie studios had signficantly different box office earnings relative to a specific movie studio (e.g., Sony Pictures). "
   ]
  },
  {
   "cell_type": "markdown",
   "metadata": {},
   "source": [
    "# Import the revised box office/IMDB datasetwith no box office revenue outliers"
   ]
  },
  {
   "cell_type": "code",
   "execution_count": 2,
   "metadata": {},
   "outputs": [
    {
     "data": {
      "text/html": [
       "<div>\n",
       "<style scoped>\n",
       "    .dataframe tbody tr th:only-of-type {\n",
       "        vertical-align: middle;\n",
       "    }\n",
       "\n",
       "    .dataframe tbody tr th {\n",
       "        vertical-align: top;\n",
       "    }\n",
       "\n",
       "    .dataframe thead th {\n",
       "        text-align: right;\n",
       "    }\n",
       "</style>\n",
       "<table border=\"1\" class=\"dataframe\">\n",
       "  <thead>\n",
       "    <tr style=\"text-align: right;\">\n",
       "      <th></th>\n",
       "      <th>Unnamed: 0</th>\n",
       "      <th>Rank</th>\n",
       "      <th>name</th>\n",
       "      <th>Studio</th>\n",
       "      <th>Adjusted Gross</th>\n",
       "      <th>Unadjusted Gross</th>\n",
       "      <th>year_x</th>\n",
       "      <th>year_y</th>\n",
       "      <th>length</th>\n",
       "      <th>genre</th>\n",
       "      <th>imdb_rating</th>\n",
       "      <th>n_votes</th>\n",
       "      <th>metascore</th>\n",
       "    </tr>\n",
       "  </thead>\n",
       "  <tbody>\n",
       "    <tr>\n",
       "      <th>0</th>\n",
       "      <td>19</td>\n",
       "      <td>23</td>\n",
       "      <td>Fantasia</td>\n",
       "      <td>Disney</td>\n",
       "      <td>749882600</td>\n",
       "      <td>76408097</td>\n",
       "      <td>1941</td>\n",
       "      <td>1940</td>\n",
       "      <td>125</td>\n",
       "      <td>Animation</td>\n",
       "      <td>7.8</td>\n",
       "      <td>80637</td>\n",
       "      <td>96</td>\n",
       "    </tr>\n",
       "    <tr>\n",
       "      <th>1</th>\n",
       "      <td>20</td>\n",
       "      <td>24</td>\n",
       "      <td>Jurassic World</td>\n",
       "      <td>Universal</td>\n",
       "      <td>713814300</td>\n",
       "      <td>652270625</td>\n",
       "      <td>2015</td>\n",
       "      <td>2015</td>\n",
       "      <td>124</td>\n",
       "      <td>Action</td>\n",
       "      <td>7.0</td>\n",
       "      <td>526118</td>\n",
       "      <td>59</td>\n",
       "    </tr>\n",
       "    <tr>\n",
       "      <th>2</th>\n",
       "      <td>21</td>\n",
       "      <td>25</td>\n",
       "      <td>The Godfather</td>\n",
       "      <td>Paramount</td>\n",
       "      <td>712670800</td>\n",
       "      <td>134966411</td>\n",
       "      <td>1972</td>\n",
       "      <td>1972</td>\n",
       "      <td>175</td>\n",
       "      <td>Crime</td>\n",
       "      <td>9.2</td>\n",
       "      <td>1400345</td>\n",
       "      <td>100</td>\n",
       "    </tr>\n",
       "    <tr>\n",
       "      <th>3</th>\n",
       "      <td>22</td>\n",
       "      <td>26</td>\n",
       "      <td>Forrest Gump</td>\n",
       "      <td>Paramount</td>\n",
       "      <td>709890100</td>\n",
       "      <td>330252182</td>\n",
       "      <td>1994</td>\n",
       "      <td>1994</td>\n",
       "      <td>142</td>\n",
       "      <td>Drama</td>\n",
       "      <td>8.8</td>\n",
       "      <td>1560561</td>\n",
       "      <td>82</td>\n",
       "    </tr>\n",
       "    <tr>\n",
       "      <th>4</th>\n",
       "      <td>23</td>\n",
       "      <td>27</td>\n",
       "      <td>Mary Poppins</td>\n",
       "      <td>Disney</td>\n",
       "      <td>705981800</td>\n",
       "      <td>102272727</td>\n",
       "      <td>1964</td>\n",
       "      <td>1964</td>\n",
       "      <td>139</td>\n",
       "      <td>Comedy</td>\n",
       "      <td>7.8</td>\n",
       "      <td>136005</td>\n",
       "      <td>88</td>\n",
       "    </tr>\n",
       "    <tr>\n",
       "      <th>5</th>\n",
       "      <td>25</td>\n",
       "      <td>28</td>\n",
       "      <td>Grease</td>\n",
       "      <td>Paramount</td>\n",
       "      <td>696200000</td>\n",
       "      <td>189969103</td>\n",
       "      <td>1978</td>\n",
       "      <td>1978</td>\n",
       "      <td>110</td>\n",
       "      <td>Musical</td>\n",
       "      <td>7.2</td>\n",
       "      <td>203736</td>\n",
       "      <td>70</td>\n",
       "    </tr>\n",
       "    <tr>\n",
       "      <th>6</th>\n",
       "      <td>26</td>\n",
       "      <td>31</td>\n",
       "      <td>Thunderball</td>\n",
       "      <td>Universal_Artists</td>\n",
       "      <td>675444000</td>\n",
       "      <td>63595658</td>\n",
       "      <td>1965</td>\n",
       "      <td>1965</td>\n",
       "      <td>130</td>\n",
       "      <td>Action</td>\n",
       "      <td>7.0</td>\n",
       "      <td>93506</td>\n",
       "      <td>64</td>\n",
       "    </tr>\n",
       "    <tr>\n",
       "      <th>7</th>\n",
       "      <td>27</td>\n",
       "      <td>32</td>\n",
       "      <td>The Dark Knight</td>\n",
       "      <td>Warner_Bros</td>\n",
       "      <td>672789500</td>\n",
       "      <td>535234033</td>\n",
       "      <td>2008</td>\n",
       "      <td>2008</td>\n",
       "      <td>152</td>\n",
       "      <td>Action</td>\n",
       "      <td>9.0</td>\n",
       "      <td>2009298</td>\n",
       "      <td>84</td>\n",
       "    </tr>\n",
       "    <tr>\n",
       "      <th>8</th>\n",
       "      <td>28</td>\n",
       "      <td>33</td>\n",
       "      <td>The Jungle Book</td>\n",
       "      <td>Disney</td>\n",
       "      <td>665329600</td>\n",
       "      <td>141843612</td>\n",
       "      <td>1967</td>\n",
       "      <td>1967</td>\n",
       "      <td>78</td>\n",
       "      <td>Animation</td>\n",
       "      <td>7.6</td>\n",
       "      <td>147287</td>\n",
       "      <td>65</td>\n",
       "    </tr>\n",
       "    <tr>\n",
       "      <th>9</th>\n",
       "      <td>30</td>\n",
       "      <td>34</td>\n",
       "      <td>Sleeping Beauty</td>\n",
       "      <td>Disney</td>\n",
       "      <td>656264800</td>\n",
       "      <td>51600000</td>\n",
       "      <td>1959</td>\n",
       "      <td>1959</td>\n",
       "      <td>75</td>\n",
       "      <td>Animation</td>\n",
       "      <td>7.3</td>\n",
       "      <td>119347</td>\n",
       "      <td>85</td>\n",
       "    </tr>\n",
       "  </tbody>\n",
       "</table>\n",
       "</div>"
      ],
      "text/plain": [
       "   Unnamed: 0  Rank             name              Studio  Adjusted Gross  \\\n",
       "0          19    23         Fantasia              Disney       749882600   \n",
       "1          20    24   Jurassic World           Universal       713814300   \n",
       "2          21    25    The Godfather           Paramount       712670800   \n",
       "3          22    26     Forrest Gump           Paramount       709890100   \n",
       "4          23    27     Mary Poppins              Disney       705981800   \n",
       "5          25    28           Grease           Paramount       696200000   \n",
       "6          26    31      Thunderball   Universal_Artists       675444000   \n",
       "7          27    32  The Dark Knight         Warner_Bros       672789500   \n",
       "8          28    33  The Jungle Book              Disney       665329600   \n",
       "9          30    34  Sleeping Beauty              Disney       656264800   \n",
       "\n",
       "   Unadjusted Gross  year_x  year_y  length      genre  imdb_rating  n_votes  \\\n",
       "0          76408097    1941    1940     125  Animation          7.8    80637   \n",
       "1         652270625    2015    2015     124     Action          7.0   526118   \n",
       "2         134966411    1972    1972     175      Crime          9.2  1400345   \n",
       "3         330252182    1994    1994     142      Drama          8.8  1560561   \n",
       "4         102272727    1964    1964     139     Comedy          7.8   136005   \n",
       "5         189969103    1978    1978     110    Musical          7.2   203736   \n",
       "6          63595658    1965    1965     130     Action          7.0    93506   \n",
       "7         535234033    2008    2008     152     Action          9.0  2009298   \n",
       "8         141843612    1967    1967      78  Animation          7.6   147287   \n",
       "9          51600000    1959    1959      75  Animation          7.3   119347   \n",
       "\n",
       "   metascore  \n",
       "0         96  \n",
       "1         59  \n",
       "2        100  \n",
       "3         82  \n",
       "4         88  \n",
       "5         70  \n",
       "6         64  \n",
       "7         84  \n",
       "8         65  \n",
       "9         85  "
      ]
     },
     "execution_count": 2,
     "metadata": {},
     "output_type": "execute_result"
    }
   ],
   "source": [
    "import pandas as pd\n",
    "import seaborn as sns\n",
    "\n",
    "imdb_box_office = pd.read_csv('imdb_box_office_merged_metascores.csv')\n",
    "\n",
    "imdb_box_office.head(10)"
   ]
  },
  {
   "cell_type": "markdown",
   "metadata": {},
   "source": [
    "# Data visualizations: correlation between Adjusted Gross and # of IMDB votes; and trends of data over time:"
   ]
  },
  {
   "cell_type": "markdown",
   "metadata": {},
   "source": [
    "# Scatter plot: Correlation between Adjusted Gross and # of IMDB votes"
   ]
  },
  {
   "cell_type": "code",
   "execution_count": 242,
   "metadata": {},
   "outputs": [
    {
     "name": "stderr",
     "output_type": "stream",
     "text": [
      "/Users/kevinallen/anaconda3/lib/python3.7/site-packages/seaborn/axisgrid.py:1847: UserWarning: JointGrid annotation is deprecated and will be removed in a future release.\n",
      "  warnings.warn(UserWarning(msg))\n"
     ]
    },
    {
     "data": {
      "text/plain": [
       "<seaborn.axisgrid.JointGrid at 0x1a1ed62c50>"
      ]
     },
     "execution_count": 242,
     "metadata": {},
     "output_type": "execute_result"
    },
    {
     "data": {
      "image/png": "[encoded data removed]",
      "text/plain": [
       "<Figure size 432x432 with 3 Axes>"
      ]
     },
     "metadata": {
      "needs_background": "light"
     },
     "output_type": "display_data"
    }
   ],
   "source": [
    "#implement jointplot of IMDB rating and Adjusted Gross:\n",
    "plot = sns.jointplot(x='n_votes', y='Adjusted Gross', data = imdb_box_office, kind = 'reg')\n",
    "\n",
    "plot.annotate(stats.pearsonr)"
   ]
  },
  {
   "cell_type": "markdown",
   "metadata": {},
   "source": [
    "## Similar to the earlier plot, the nunber of IMDB votes shows, at most, a very modest and low positive correlation with Adjusted Gross box office earnings. \n",
    "\n",
    "## This is somewhat surprising since one would assume that there would be more potential fans of films that have earned higher box office revenues (inflation-adjusted) since higher box office revenues indicate that a larger number of individuals watched a particular film. "
   ]
  },
  {
   "cell_type": "markdown",
   "metadata": {},
   "source": [
    "# Trends of data over time:"
   ]
  },
  {
   "cell_type": "markdown",
   "metadata": {},
   "source": [
    "# Lineplot of IMDB ratings over time"
   ]
  },
  {
   "cell_type": "code",
   "execution_count": 240,
   "metadata": {},
   "outputs": [
    {
     "data": {
      "text/plain": [
       "<matplotlib.axes._subplots.AxesSubplot at 0x1a1d1d0b38>"
      ]
     },
     "execution_count": 240,
     "metadata": {},
     "output_type": "execute_result"
    },
    {
     "data": {
      "image/png": "[encoded data removed]",
      "text/plain": [
       "<Figure size 432x288 with 1 Axes>"
      ]
     },
     "metadata": {
      "needs_background": "light"
     },
     "output_type": "display_data"
    }
   ],
   "source": [
    "#lineplot of average IMDB ratings over time\n",
    "sns.lineplot(x='year', y='imdb_rating', data=imdb_box_office)"
   ]
  },
  {
   "cell_type": "markdown",
   "metadata": {},
   "source": [
    "# Lineplot of metascores over time"
   ]
  },
  {
   "cell_type": "code",
   "execution_count": 243,
   "metadata": {
    "scrolled": false
   },
   "outputs": [
    {
     "data": {
      "text/plain": [
       "<matplotlib.axes._subplots.AxesSubplot at 0x1a1f0fdac8>"
      ]
     },
     "execution_count": 243,
     "metadata": {},
     "output_type": "execute_result"
    },
    {
     "data": {
      "image/png": "[encoded data removed]",
      "text/plain": [
       "<Figure size 432x288 with 1 Axes>"
      ]
     },
     "metadata": {
      "needs_background": "light"
     },
     "output_type": "display_data"
    }
   ],
   "source": [
    "#lineplot of average metascore ratings over time\n",
    "sns.lineplot('year', 'metascore', data=imdb_box_office)"
   ]
  },
  {
   "cell_type": "markdown",
   "metadata": {},
   "source": [
    "# Lineplot of film length over time"
   ]
  },
  {
   "cell_type": "code",
   "execution_count": 244,
   "metadata": {},
   "outputs": [
    {
     "data": {
      "text/plain": [
       "<matplotlib.axes._subplots.AxesSubplot at 0x1a1f222710>"
      ]
     },
     "execution_count": 244,
     "metadata": {},
     "output_type": "execute_result"
    },
    {
     "data": {
      "image/png": "[encoded data removed]",
      "text/plain": [
       "<Figure size 432x288 with 1 Axes>"
      ]
     },
     "metadata": {
      "needs_background": "light"
     },
     "output_type": "display_data"
    }
   ],
   "source": [
    "#average film length over time\n",
    "sns.lineplot('year', 'length', data=imdb_box_office)"
   ]
  },
  {
   "cell_type": "markdown",
   "metadata": {},
   "source": [
    "## Overall, eliminating the outliers changes the interpretations of the data over time moderately at most. \n",
    "\n",
    "## For instance, IMDB ratings fluctuate a bit less now that the outliers were deleted. More specifically, while IMDB ratings were highest overall for several years in the 1940s, 1950s, and 1960s, average IMDB ratings have not changed drastically in more recent decades, but films in the late 1970s to early 1990s generally seem to be an era with lower-quality films. \n",
    "\n",
    "## By contrast with the IMDB ratings, average Metascore ratings show a much more obvious and substantial decline in average ratings. For example, films in the 1990s to the present have averaged around the high-to-mid 60s. The highest-grossing films from earlier decades, such as the 1930s to early 1960s had average metascores of a solid 15-20+ points higher! Therefore, more popular films in recent decades have been perceived by critics to be of a lower overall quality, more so than that of the general movie-going public (at least, as shown by IMDB ratings). \n",
    "\n",
    "## Film length for the highest-grossing films, a bit like that of the original IMDB datasets, seems to have increased in the 1970s, remaining fairly steady through the present."
   ]
  },
  {
   "cell_type": "markdown",
   "metadata": {},
   "source": [
    "# Implement univariate OLS: IMDB rating and Adjusted Gross:\n",
    "\n",
    "# The statsmodels library will be imported for estimating regression models."
   ]
  },
  {
   "cell_type": "markdown",
   "metadata": {},
   "source": [
    "## OLS simple linear regression of IMDB rating on Adjusted Gross box office revenue:"
   ]
  },
  {
   "cell_type": "code",
   "execution_count": 24,
   "metadata": {},
   "outputs": [
    {
     "name": "stdout",
     "output_type": "stream",
     "text": [
      "                            OLS Regression Results                            \n",
      "==============================================================================\n",
      "Dep. Variable:         Adjusted Gross   R-squared:                       0.090\n",
      "Model:                            OLS   Adj. R-squared:                  0.086\n",
      "Method:                 Least Squares   F-statistic:                     27.58\n",
      "Date:                Tue, 05 Feb 2019   Prob (F-statistic):           3.38e-07\n",
      "Time:                        11:57:10   Log-Likelihood:                -4692.0\n",
      "No. Observations:                 236   AIC:                             9388.\n",
      "Df Residuals:                     234   BIC:                             9395.\n",
      "Df Model:                           1                                         \n",
      "Covariance Type:                  HC3                                         \n",
      "===============================================================================\n",
      "                  coef    std err          z      P>|z|      [0.025      0.975]\n",
      "-------------------------------------------------------------------------------\n",
      "const        1.056e+08   5.57e+07      1.896      0.058   -3.55e+06    2.15e+08\n",
      "imdb_rating  4.173e+07   7.95e+06      5.252      0.000    2.62e+07    5.73e+07\n",
      "==============================================================================\n",
      "Omnibus:                       28.289   Durbin-Watson:                   0.199\n",
      "Prob(Omnibus):                  0.000   Jarque-Bera (JB):               34.722\n",
      "Skew:                           0.917   Prob(JB):                     2.89e-08\n",
      "Kurtosis:                       3.408   Cond. No.                         69.0\n",
      "==============================================================================\n",
      "\n",
      "Warnings:\n",
      "[1] Standard Errors are heteroscedasticity robust (HC3)\n"
     ]
    }
   ],
   "source": [
    "#import statsmodels library for linear regression model analysis\n",
    "import statsmodels.api as sm\n",
    "\n",
    "#define the dependent/outcome variable for 1st model\n",
    "#1st regression model will be a linear regression model with IMDB ratings as the single covariate\n",
    "Y1 = imdb_box_office['Adjusted Gross']\n",
    "\n",
    "#define the single covariate for this model as a vector X\n",
    "X1 = imdb_box_office['imdb_rating']\n",
    "\n",
    "#add constant term by calling upon the statsmodels library\n",
    "X1 = sm.add_constant(X1)\n",
    "\n",
    "#apply ordinary least squares (OLS) estimation to this model\n",
    "model1 = sm.OLS(Y1,X1)\n",
    "\n",
    "#derive the simple linear regression (OLS) models' results\n",
    "#Use heteroksedasticity robust standard errors to correct for any possible heteroskedasticity issues\n",
    "#this way, the estimated standard errors (SEs) will not be biased by enssuring the variance is constant (i.e., homoskedastic)\n",
    "res1 = model1.fit(cov_type='HC3')\n",
    "\n",
    "#print/display the entire regression results/output\n",
    "print(res1.summary())"
   ]
  },
  {
   "cell_type": "markdown",
   "metadata": {},
   "source": [
    "# Analysis/interpretation of univariate OLS model results:"
   ]
  },
  {
   "cell_type": "markdown",
   "metadata": {},
   "source": [
    "## Given the moderate degree of positive correlation seen in the earlier plots, it's not especially surprising to see that imdb_rating has a highly signififcant correlation with Adjusted Gross. I.e., notice the Z-stat is quite a bit higher than even 2.576 in absolute value. Thus, the IMBD ratings have a highly significant degree of correlation (signficant well within the 0.001 level) with Adjusted Gross income.\n",
    "\n",
    "## However, degrees of statistical significance will never paint the full picture. For example, magnitudes of the correlaiton/association are also important to consider.\n",
    "\n",
    "## The coefficient on IMDB ratings suggests that a 1-standard deviation increase in the IMDB ratings (i.e., an increase in ~ 0.789) will result in a $32,924,970 increase in expected Adjusted Gross box office earnings. \n",
    "\n",
    "## While this may seem like a large increase, $32,924,970 is equivalent to 30% of a 1 standard deviation increase in Adjusted Gross box office earnings. In other words, 32,924,970  is not small or insubstantial, but it's not a massive increase in earnings. Overall, it would appear that films with higher average box office earnings tend to have moderately higher IMDB ratings, implying that films that do better at the box office do tend to be judged as being of a moderately higher degree of quality. The R-squared coefficient of 9%, however, does further demonstrate the limited degree to which higher IMDB ratings are associated with higher box office earnings. I.e., the relationship between the 2 variables is not particularly substantial.\n",
    "\n",
    "## Let's estimate a more rigorous model by incorporating the number of IMDB ratings as well as metascore ratings into another OLS model."
   ]
  },
  {
   "cell_type": "markdown",
   "metadata": {},
   "source": [
    "# OLS multivariate model of IMDB rating, metascore, and n_votes on Adjusted Gross:"
   ]
  },
  {
   "cell_type": "code",
   "execution_count": 36,
   "metadata": {},
   "outputs": [
    {
     "name": "stdout",
     "output_type": "stream",
     "text": [
      "                            OLS Regression Results                            \n",
      "==============================================================================\n",
      "Dep. Variable:         Adjusted Gross   R-squared:                       0.108\n",
      "Model:                            OLS   Adj. R-squared:                  0.096\n",
      "Method:                 Least Squares   F-statistic:                     10.62\n",
      "Date:                Tue, 05 Feb 2019   Prob (F-statistic):           1.44e-06\n",
      "Time:                        12:25:35   Log-Likelihood:                -4689.7\n",
      "No. Observations:                 236   AIC:                             9387.\n",
      "Df Residuals:                     232   BIC:                             9401.\n",
      "Df Model:                           3                                         \n",
      "Covariance Type:                  HC3                                         \n",
      "===============================================================================\n",
      "                  coef    std err          z      P>|z|      [0.025      0.975]\n",
      "-------------------------------------------------------------------------------\n",
      "const        1.813e+08   6.61e+07      2.743      0.006    5.18e+07    3.11e+08\n",
      "imdb_rating  1.719e+07   1.44e+07      1.194      0.232    -1.1e+07    4.54e+07\n",
      "metascore    1.438e+06   7.23e+05      1.988      0.047    2.03e+04    2.86e+06\n",
      "n_votes        14.0410     32.455      0.433      0.665     -49.569      77.651\n",
      "==============================================================================\n",
      "Omnibus:                       27.736   Durbin-Watson:                   0.243\n",
      "Prob(Omnibus):                  0.000   Jarque-Bera (JB):               33.852\n",
      "Skew:                           0.905   Prob(JB):                     4.46e-08\n",
      "Kurtosis:                       3.405   Cond. No.                     6.07e+06\n",
      "==============================================================================\n",
      "\n",
      "Warnings:\n",
      "[1] Standard Errors are heteroscedasticity robust (HC3)\n",
      "[2] The condition number is large, 6.07e+06. This might indicate that there are\n",
      "strong multicollinearity or other numerical problems.\n"
     ]
    }
   ],
   "source": [
    "import numpy as np\n",
    "#import statsmodels library for linear regression model analysis\n",
    "import statsmodels.api as sm\n",
    "\n",
    "#define the dependent/outcome variable for 1st model\n",
    "#1st regression model will be a linear regression model with IMDB ratings as the single covariate\n",
    "Y2 = imdb_box_office['Adjusted Gross']\n",
    "\n",
    "#define the single covariate for this model\n",
    "X2 = imdb_box_office[['imdb_rating', 'metascore', 'n_votes']]\n",
    "\n",
    "#add constant term by calling upon the statsmodels library\n",
    "X2 = sm.add_constant(X2)\n",
    "\n",
    "#apply ordinary least squares (OLS) estimation to this model\n",
    "#And derive the linear regression (OLS) models' results\n",
    "#Use heteroksedasticity robust standard errors to correct for any possible heteroskedasticity issues\n",
    "#this way, the estimated standard errors (SEs) will not be biased\n",
    "model2 = sm.OLS(Y2,X2).fit(cov_type='HC3')\n",
    "\n",
    "#print/display the entire regression results/output\n",
    "print(model2.summary())"
   ]
  },
  {
   "cell_type": "markdown",
   "metadata": {},
   "source": [
    "# Analysis/interpretation of multivariate OLS model (model2):\n",
    "\n",
    "## At first glance, it may seem strange that each of the 3 variables are statistically insignificant. However, the regression output does state a warning that the \"condition number is large\". This and the lack of signficance of variables that clearly have some degree of signifcant correlation with Adjusted Gross (e.g., consider IMDB ratings from the earlier, simple linear, OLS regression model) are both classic indications of multicollienarity. \n",
    "\n",
    "## Mutlicollinearity results when 2 or more covariates are substantially correlated with each other, which can result in substantially biased estimates of the covariates' coefficients as well as biased estimates of Standard errors. In other words, multicollinearity can make the accuracy, precision, and calrity of a regression model extremely unreliable or even downright incorrect.\n",
    "\n",
    "## Mutlicollinearity can be examined by calculting the variance inflaiton factor (VIF), a measure of the degree of correlation among each covariate. For the variables that have an especially high VIF, we can then ommit them from the model, and re-run the OLS model. "
   ]
  },
  {
   "cell_type": "markdown",
   "metadata": {},
   "source": [
    "## Calculate the VIF of the multivariate OLS model, and drop the \"offending\" variable(s)"
   ]
  },
  {
   "cell_type": "code",
   "execution_count": 37,
   "metadata": {},
   "outputs": [
    {
     "data": {
      "text/plain": [
       "const          142.934768\n",
       "imdb_rating      3.355447\n",
       "metascore        2.396788\n",
       "n_votes          1.647751\n",
       "dtype: float64"
      ]
     },
     "execution_count": 37,
     "metadata": {},
     "output_type": "execute_result"
    }
   ],
   "source": [
    "#import pandas library to call upon the Series method\n",
    "import pandas as pd\n",
    "\n",
    "#import the VIF module from the statsmodels library\n",
    "from statsmodels.stats.outliers_influence import variance_inflation_factor\n",
    "\n",
    "\n",
    "#calculate the VIF for X2 (i.e., the covariates from the multivariate OLS model):\n",
    "pd.Series([variance_inflation_factor(X2.values, i) for i in range(X2.shape[1])],\n",
    "          index=X2.columns)"
   ]
  },
  {
   "cell_type": "markdown",
   "metadata": {},
   "source": [
    "## Surprisingly, none of the variables has a particularly high VIF, but the intercept/constant of the VIF is exceptionally high, indicating that the overall degree of multicollinearity among the 3 covariates is quite high.\n",
    "\n",
    "## Given that imdb_rating has the highest VIF, let's ommit that, and then re-estimate a multivariate OLS model, and then re-estimate the VIF."
   ]
  },
  {
   "cell_type": "markdown",
   "metadata": {},
   "source": [
    "# Re-run multivariate OLS model, excluding imdb_rating due to high VIF:"
   ]
  },
  {
   "cell_type": "code",
   "execution_count": 64,
   "metadata": {},
   "outputs": [
    {
     "name": "stdout",
     "output_type": "stream",
     "text": [
      "                            OLS Regression Results                            \n",
      "==============================================================================\n",
      "Dep. Variable:         Adjusted Gross   R-squared:                       0.103\n",
      "Model:                            OLS   Adj. R-squared:                  0.095\n",
      "Method:                 Least Squares   F-statistic:                     12.72\n",
      "Date:                Tue, 05 Feb 2019   Prob (F-statistic):           5.72e-06\n",
      "Time:                        13:58:48   Log-Likelihood:                -4690.4\n",
      "No. Observations:                 236   AIC:                             9387.\n",
      "Df Residuals:                     233   BIC:                             9397.\n",
      "Df Model:                           2                                         \n",
      "Covariance Type:                  HC3                                         \n",
      "==============================================================================\n",
      "                 coef    std err          z      P>|z|      [0.025      0.975]\n",
      "------------------------------------------------------------------------------\n",
      "const       2.632e+08   2.87e+07      9.167      0.000    2.07e+08     3.2e+08\n",
      "metascore   1.981e+06   4.75e+05      4.168      0.000    1.05e+06    2.91e+06\n",
      "n_votes       30.5780     27.811      1.100      0.272     -23.930      85.086\n",
      "==============================================================================\n",
      "Omnibus:                       29.240   Durbin-Watson:                   0.232\n",
      "Prob(Omnibus):                  0.000   Jarque-Bera (JB):               36.197\n",
      "Skew:                           0.935   Prob(JB):                     1.38e-08\n",
      "Kurtosis:                       3.433   Cond. No.                     2.23e+06\n",
      "==============================================================================\n",
      "\n",
      "Warnings:\n",
      "[1] Standard Errors are heteroscedasticity robust (HC3)\n",
      "[2] The condition number is large, 2.23e+06. This might indicate that there are\n",
      "strong multicollinearity or other numerical problems.\n"
     ]
    }
   ],
   "source": [
    "import numpy as np\n",
    "#import statsmodels library for linear regression model analysis\n",
    "import statsmodels.api as sm\n",
    "\n",
    "#define the dependent/outcome variable for 1st model\n",
    "#1st regression model will be a linear regression model with IMDB ratings as the single covariate\n",
    "Y3 = imdb_box_office['Adjusted Gross']\n",
    "\n",
    "#define the single covariate for this model\n",
    "X3 = imdb_box_office[['metascore', 'n_votes']]\n",
    "\n",
    "#add constant term by calling upon the statsmodels library\n",
    "X3 = sm.add_constant(X3)\n",
    "\n",
    "#apply ordinary least squares (OLS) estimation to this model\n",
    "#And derive the linear regression (OLS) models' results\n",
    "#Use heteroksedasticity robust standard errors to correct for any possible heteroskedasticity issues\n",
    "#this way, the estimated standard errors (SEs) will not be biased\n",
    "model3 = sm.OLS(Y3,X3).fit(cov_type='HC3')\n",
    "\n",
    "#print/display the entire regression results/output\n",
    "print(model3.summary())"
   ]
  },
  {
   "cell_type": "markdown",
   "metadata": {},
   "source": [
    "##  Implement VIF calculations for new multivariate OLS model:"
   ]
  },
  {
   "cell_type": "code",
   "execution_count": 48,
   "metadata": {},
   "outputs": [
    {
     "data": {
      "text/plain": [
       "const        19.925667\n",
       "metascore     1.087016\n",
       "n_votes       1.087016\n",
       "dtype: float64"
      ]
     },
     "execution_count": 48,
     "metadata": {},
     "output_type": "execute_result"
    }
   ],
   "source": [
    "#import pandas library to call upon the Series method\n",
    "import pandas as pd\n",
    "\n",
    "#import the VIF module from the statsmodels library\n",
    "from statsmodels.stats.outliers_influence import variance_inflation_factor\n",
    "\n",
    "\n",
    "#calculate the VIF for X3 (i.e., the covariates from the 2nd multivariate OLS model):\n",
    "pd.Series([variance_inflation_factor(X3.values, i) for i in range(X3.shape[1])],\n",
    "          index=X3.columns)"
   ]
  },
  {
   "cell_type": "markdown",
   "metadata": {},
   "source": [
    "## This appears to be a solid improvement in reducing mutlicollinearity. Neither variable in the model has a VIF greater than 1.1 (which is well within an acceptable range), and the intercept is still high, but much lower than with all 3 covariates.\n",
    "\n",
    "## The significance of metascores has now changed such that it is now considered highly statistically significant (very easily within a 0.01% level of significance), while n_votes still remains statistically insignificant. The overall model has an F-statistic of 12.72, which makes the overall OLS model signficant at even the 0.01% level, even though n_votes is individually insignificant. \n",
    "\n",
    "## The magnitude of metascores is lower than that of IMDB ratings from the original univariate OLS model, but this may in part be due to some remaining multicollinearity. \n",
    "\n",
    "## While there may be an even higher VIF, let's estimate another multivariate OLS, which will exclude n_votes, but re-include imdb_rating."
   ]
  },
  {
   "cell_type": "markdown",
   "metadata": {},
   "source": [
    "## Model 4: imdb_rating and metascore"
   ]
  },
  {
   "cell_type": "code",
   "execution_count": 47,
   "metadata": {},
   "outputs": [
    {
     "name": "stdout",
     "output_type": "stream",
     "text": [
      "                            OLS Regression Results                            \n",
      "==============================================================================\n",
      "Dep. Variable:         Adjusted Gross   R-squared:                       0.107\n",
      "Model:                            OLS   Adj. R-squared:                  0.099\n",
      "Method:                 Least Squares   F-statistic:                     15.52\n",
      "Date:                Tue, 05 Feb 2019   Prob (F-statistic):           4.69e-07\n",
      "Time:                        12:39:00   Log-Likelihood:                -4689.9\n",
      "No. Observations:                 236   AIC:                             9386.\n",
      "Df Residuals:                     233   BIC:                             9396.\n",
      "Df Model:                           2                                         \n",
      "Covariance Type:                  HC3                                         \n",
      "===============================================================================\n",
      "                  coef    std err          z      P>|z|      [0.025      0.975]\n",
      "-------------------------------------------------------------------------------\n",
      "const        1.572e+08   6.16e+07      2.551      0.011    3.64e+07    2.78e+08\n",
      "metascore    1.337e+06   7.16e+05      1.867      0.062   -6.62e+04    2.74e+06\n",
      "imdb_rating  2.216e+07    1.3e+07      1.704      0.088   -3.34e+06    4.77e+07\n",
      "==============================================================================\n",
      "Omnibus:                       27.100   Durbin-Watson:                   0.243\n",
      "Prob(Omnibus):                  0.000   Jarque-Bera (JB):               32.912\n",
      "Skew:                           0.895   Prob(JB):                     7.13e-08\n",
      "Kurtosis:                       3.377   Cond. No.                         707.\n",
      "==============================================================================\n",
      "\n",
      "Warnings:\n",
      "[1] Standard Errors are heteroscedasticity robust (HC3)\n"
     ]
    }
   ],
   "source": [
    "import numpy as np\n",
    "#import statsmodels library for linear regression model analysis\n",
    "import statsmodels.api as sm\n",
    "\n",
    "#define the dependent/outcome variable for 1st model\n",
    "#1st regression model will be a linear regression model with IMDB ratings as the single covariate\n",
    "Y4 = imdb_box_office['Adjusted Gross']\n",
    "\n",
    "#define the single covariate for this model\n",
    "X4 = imdb_box_office[['metascore', 'imdb_rating']]\n",
    "\n",
    "#add constant term by calling upon the statsmodels library\n",
    "X4 = sm.add_constant(X4)\n",
    "\n",
    "#apply ordinary least squares (OLS) estimation to this model\n",
    "#And derive the linear regression (OLS) models' results\n",
    "#Use heteroksedasticity robust standard errors to correct for any possible heteroskedasticity issues\n",
    "#this way, the estimated standard errors (SEs) will not be biased\n",
    "model4 = sm.OLS(Y4,X4).fit(cov_type='HC3')\n",
    "\n",
    "#print/display the entire regression results/output\n",
    "print(model4.summary())"
   ]
  },
  {
   "cell_type": "markdown",
   "metadata": {},
   "source": [
    "## Re-estimate VIF"
   ]
  },
  {
   "cell_type": "code",
   "execution_count": 49,
   "metadata": {},
   "outputs": [
    {
     "data": {
      "text/plain": [
       "const          99.741456\n",
       "metascore       2.213578\n",
       "imdb_rating     2.213578\n",
       "dtype: float64"
      ]
     },
     "execution_count": 49,
     "metadata": {},
     "output_type": "execute_result"
    }
   ],
   "source": [
    "#import pandas library to call upon the Series method\n",
    "import pandas as pd\n",
    "\n",
    "#import the VIF module from the statsmodels library\n",
    "from statsmodels.stats.outliers_influence import variance_inflation_factor\n",
    "\n",
    "\n",
    "#calculate the VIF for X3 (i.e., the covariates from the 2nd multivariate OLS model):\n",
    "pd.Series([variance_inflation_factor(X4.values, i) for i in range(X4.shape[1])],\n",
    "          index=X4.columns)"
   ]
  },
  {
   "cell_type": "markdown",
   "metadata": {},
   "source": [
    "## Notice the VHF is once again quite high overall, with each variable showing a higher (but not excessively high) VHF as well.\n",
    "\n",
    "## Due to this relatively high degree of multicollinearity, the results of this OLS model are, at best, a bit suspect. However, it does appear that metascores do have a more signficant level of association with Adjusted Gross box office earnings, even though the magnitude is a bit lower. Nevertheless, both variables are still a bit short of statistical signifcance this time, even at the 5% level."
   ]
  },
  {
   "cell_type": "markdown",
   "metadata": {},
   "source": [
    "## Summary of results:\n",
    "\n",
    "## Overall, the regression results suggest that metascore ratings may be the most significant factor associated with higher box office earnings. Higher metscore ratings appear to lead to a moderate increase in box office revenue.\n",
    "\n",
    "## This association between box office revenue and metascore ratings does make sense from an economic and marketing perspective as well. \n",
    "\n",
    "## From an economic perspective, higher metascore ratings can result in an increase in demand for tickets to movies with these higher ratings. This is because higher average movie critic ratings will encourage more people to watch a movie in theaters, thus causing a change in consumer preferences, and increasing demand for these highly-rated films.\n",
    "\n",
    "## From a marketing perspective, these results also make sense. Namely, trailers and other advertisements for films will oftentimes reference particular movie critics' praise or ratings for the given film, and this will likely increase demand (this essentially overlaps with the economics explanation, but with a marketing-oriented perspective) for these films. Of course, higher movie critic ratings makes these marketing campaigns more credible to the average consumer, making higher-rated films all the more popular, at least on average.  "
   ]
  },
  {
   "cell_type": "markdown",
   "metadata": {},
   "source": [
    "# Create indicator/binary variables for each movie studio in the dataset to be used for some quantitative analysis"
   ]
  },
  {
   "cell_type": "markdown",
   "metadata": {},
   "source": [
    "## This way, we can see whether IMDB ratings or metascores play a bigger role in affecting Adjusted Gross box office revenues for different movie studios. This might be the case because some movie studios have distributed a larger number of highly successful films than others."
   ]
  },
  {
   "cell_type": "markdown",
   "metadata": {},
   "source": [
    "# Create indicators for movie studios"
   ]
  },
  {
   "cell_type": "code",
   "execution_count": 52,
   "metadata": {},
   "outputs": [],
   "source": [
    "#create movie studio indicator variables\n",
    "movie_studios = pd.get_dummies(imdb_box_office['Studio'])"
   ]
  },
  {
   "cell_type": "markdown",
   "metadata": {},
   "source": [
    "## concatenate new variables to original dataset"
   ]
  },
  {
   "cell_type": "code",
   "execution_count": 54,
   "metadata": {},
   "outputs": [
    {
     "data": {
      "text/html": [
       "<div>\n",
       "<style scoped>\n",
       "    .dataframe tbody tr th:only-of-type {\n",
       "        vertical-align: middle;\n",
       "    }\n",
       "\n",
       "    .dataframe tbody tr th {\n",
       "        vertical-align: top;\n",
       "    }\n",
       "\n",
       "    .dataframe thead th {\n",
       "        text-align: right;\n",
       "    }\n",
       "</style>\n",
       "<table border=\"1\" class=\"dataframe\">\n",
       "  <thead>\n",
       "    <tr style=\"text-align: right;\">\n",
       "      <th></th>\n",
       "      <th>Rank</th>\n",
       "      <th>name</th>\n",
       "      <th>Studio</th>\n",
       "      <th>Adjusted Gross</th>\n",
       "      <th>Unadjusted Gross</th>\n",
       "      <th>year</th>\n",
       "      <th>length</th>\n",
       "      <th>genre</th>\n",
       "      <th>imdb_rating</th>\n",
       "      <th>n_votes</th>\n",
       "      <th>...</th>\n",
       "      <th>Newmarket</th>\n",
       "      <th>Orion</th>\n",
       "      <th>Paramount</th>\n",
       "      <th>RKO</th>\n",
       "      <th>Sony</th>\n",
       "      <th>Summit_Entertainment</th>\n",
       "      <th>TriStar</th>\n",
       "      <th>Universal</th>\n",
       "      <th>WB_New_Line</th>\n",
       "      <th>Warner_Bros</th>\n",
       "    </tr>\n",
       "  </thead>\n",
       "  <tbody>\n",
       "    <tr>\n",
       "      <th>0</th>\n",
       "      <td>23</td>\n",
       "      <td>Fantasia</td>\n",
       "      <td>Disney</td>\n",
       "      <td>749882600</td>\n",
       "      <td>76408097</td>\n",
       "      <td>1941</td>\n",
       "      <td>125</td>\n",
       "      <td>Animation</td>\n",
       "      <td>7.8</td>\n",
       "      <td>80637</td>\n",
       "      <td>...</td>\n",
       "      <td>0</td>\n",
       "      <td>0</td>\n",
       "      <td>0</td>\n",
       "      <td>0</td>\n",
       "      <td>0</td>\n",
       "      <td>0</td>\n",
       "      <td>0</td>\n",
       "      <td>0</td>\n",
       "      <td>0</td>\n",
       "      <td>0</td>\n",
       "    </tr>\n",
       "    <tr>\n",
       "      <th>1</th>\n",
       "      <td>24</td>\n",
       "      <td>Jurassic World</td>\n",
       "      <td>Universal</td>\n",
       "      <td>713814300</td>\n",
       "      <td>652270625</td>\n",
       "      <td>2015</td>\n",
       "      <td>124</td>\n",
       "      <td>Action</td>\n",
       "      <td>7.0</td>\n",
       "      <td>526118</td>\n",
       "      <td>...</td>\n",
       "      <td>0</td>\n",
       "      <td>0</td>\n",
       "      <td>0</td>\n",
       "      <td>0</td>\n",
       "      <td>0</td>\n",
       "      <td>0</td>\n",
       "      <td>0</td>\n",
       "      <td>1</td>\n",
       "      <td>0</td>\n",
       "      <td>0</td>\n",
       "    </tr>\n",
       "    <tr>\n",
       "      <th>2</th>\n",
       "      <td>25</td>\n",
       "      <td>The Godfather</td>\n",
       "      <td>Paramount</td>\n",
       "      <td>712670800</td>\n",
       "      <td>134966411</td>\n",
       "      <td>1972</td>\n",
       "      <td>175</td>\n",
       "      <td>Crime</td>\n",
       "      <td>9.2</td>\n",
       "      <td>1400345</td>\n",
       "      <td>...</td>\n",
       "      <td>0</td>\n",
       "      <td>0</td>\n",
       "      <td>1</td>\n",
       "      <td>0</td>\n",
       "      <td>0</td>\n",
       "      <td>0</td>\n",
       "      <td>0</td>\n",
       "      <td>0</td>\n",
       "      <td>0</td>\n",
       "      <td>0</td>\n",
       "    </tr>\n",
       "    <tr>\n",
       "      <th>3</th>\n",
       "      <td>26</td>\n",
       "      <td>Forrest Gump</td>\n",
       "      <td>Paramount</td>\n",
       "      <td>709890100</td>\n",
       "      <td>330252182</td>\n",
       "      <td>1994</td>\n",
       "      <td>142</td>\n",
       "      <td>Drama</td>\n",
       "      <td>8.8</td>\n",
       "      <td>1560561</td>\n",
       "      <td>...</td>\n",
       "      <td>0</td>\n",
       "      <td>0</td>\n",
       "      <td>1</td>\n",
       "      <td>0</td>\n",
       "      <td>0</td>\n",
       "      <td>0</td>\n",
       "      <td>0</td>\n",
       "      <td>0</td>\n",
       "      <td>0</td>\n",
       "      <td>0</td>\n",
       "    </tr>\n",
       "    <tr>\n",
       "      <th>4</th>\n",
       "      <td>27</td>\n",
       "      <td>Mary Poppins</td>\n",
       "      <td>Disney</td>\n",
       "      <td>705981800</td>\n",
       "      <td>102272727</td>\n",
       "      <td>1964</td>\n",
       "      <td>139</td>\n",
       "      <td>Comedy</td>\n",
       "      <td>7.8</td>\n",
       "      <td>136005</td>\n",
       "      <td>...</td>\n",
       "      <td>0</td>\n",
       "      <td>0</td>\n",
       "      <td>0</td>\n",
       "      <td>0</td>\n",
       "      <td>0</td>\n",
       "      <td>0</td>\n",
       "      <td>0</td>\n",
       "      <td>0</td>\n",
       "      <td>0</td>\n",
       "      <td>0</td>\n",
       "    </tr>\n",
       "    <tr>\n",
       "      <th>5</th>\n",
       "      <td>28</td>\n",
       "      <td>Grease</td>\n",
       "      <td>Paramount</td>\n",
       "      <td>696200000</td>\n",
       "      <td>189969103</td>\n",
       "      <td>1978</td>\n",
       "      <td>110</td>\n",
       "      <td>Musical</td>\n",
       "      <td>7.2</td>\n",
       "      <td>203736</td>\n",
       "      <td>...</td>\n",
       "      <td>0</td>\n",
       "      <td>0</td>\n",
       "      <td>1</td>\n",
       "      <td>0</td>\n",
       "      <td>0</td>\n",
       "      <td>0</td>\n",
       "      <td>0</td>\n",
       "      <td>0</td>\n",
       "      <td>0</td>\n",
       "      <td>0</td>\n",
       "    </tr>\n",
       "    <tr>\n",
       "      <th>6</th>\n",
       "      <td>31</td>\n",
       "      <td>Thunderball</td>\n",
       "      <td>Universal_Artists</td>\n",
       "      <td>675444000</td>\n",
       "      <td>63595658</td>\n",
       "      <td>1965</td>\n",
       "      <td>130</td>\n",
       "      <td>Action</td>\n",
       "      <td>7.0</td>\n",
       "      <td>93506</td>\n",
       "      <td>...</td>\n",
       "      <td>0</td>\n",
       "      <td>0</td>\n",
       "      <td>0</td>\n",
       "      <td>0</td>\n",
       "      <td>0</td>\n",
       "      <td>0</td>\n",
       "      <td>0</td>\n",
       "      <td>0</td>\n",
       "      <td>0</td>\n",
       "      <td>0</td>\n",
       "    </tr>\n",
       "    <tr>\n",
       "      <th>7</th>\n",
       "      <td>32</td>\n",
       "      <td>The Dark Knight</td>\n",
       "      <td>Warner_Bros</td>\n",
       "      <td>672789500</td>\n",
       "      <td>535234033</td>\n",
       "      <td>2008</td>\n",
       "      <td>152</td>\n",
       "      <td>Action</td>\n",
       "      <td>9.0</td>\n",
       "      <td>2009298</td>\n",
       "      <td>...</td>\n",
       "      <td>0</td>\n",
       "      <td>0</td>\n",
       "      <td>0</td>\n",
       "      <td>0</td>\n",
       "      <td>0</td>\n",
       "      <td>0</td>\n",
       "      <td>0</td>\n",
       "      <td>0</td>\n",
       "      <td>0</td>\n",
       "      <td>1</td>\n",
       "    </tr>\n",
       "    <tr>\n",
       "      <th>8</th>\n",
       "      <td>33</td>\n",
       "      <td>The Jungle Book</td>\n",
       "      <td>Disney</td>\n",
       "      <td>665329600</td>\n",
       "      <td>141843612</td>\n",
       "      <td>1967</td>\n",
       "      <td>78</td>\n",
       "      <td>Animation</td>\n",
       "      <td>7.6</td>\n",
       "      <td>147287</td>\n",
       "      <td>...</td>\n",
       "      <td>0</td>\n",
       "      <td>0</td>\n",
       "      <td>0</td>\n",
       "      <td>0</td>\n",
       "      <td>0</td>\n",
       "      <td>0</td>\n",
       "      <td>0</td>\n",
       "      <td>0</td>\n",
       "      <td>0</td>\n",
       "      <td>0</td>\n",
       "    </tr>\n",
       "    <tr>\n",
       "      <th>9</th>\n",
       "      <td>34</td>\n",
       "      <td>Sleeping Beauty</td>\n",
       "      <td>Disney</td>\n",
       "      <td>656264800</td>\n",
       "      <td>51600000</td>\n",
       "      <td>1959</td>\n",
       "      <td>75</td>\n",
       "      <td>Animation</td>\n",
       "      <td>7.3</td>\n",
       "      <td>119347</td>\n",
       "      <td>...</td>\n",
       "      <td>0</td>\n",
       "      <td>0</td>\n",
       "      <td>0</td>\n",
       "      <td>0</td>\n",
       "      <td>0</td>\n",
       "      <td>0</td>\n",
       "      <td>0</td>\n",
       "      <td>0</td>\n",
       "      <td>0</td>\n",
       "      <td>0</td>\n",
       "    </tr>\n",
       "  </tbody>\n",
       "</table>\n",
       "<p>10 rows × 53 columns</p>\n",
       "</div>"
      ],
      "text/plain": [
       "   Rank             name              Studio  Adjusted Gross  \\\n",
       "0    23         Fantasia              Disney       749882600   \n",
       "1    24   Jurassic World           Universal       713814300   \n",
       "2    25    The Godfather           Paramount       712670800   \n",
       "3    26     Forrest Gump           Paramount       709890100   \n",
       "4    27     Mary Poppins              Disney       705981800   \n",
       "5    28           Grease           Paramount       696200000   \n",
       "6    31      Thunderball   Universal_Artists       675444000   \n",
       "7    32  The Dark Knight         Warner_Bros       672789500   \n",
       "8    33  The Jungle Book              Disney       665329600   \n",
       "9    34  Sleeping Beauty              Disney       656264800   \n",
       "\n",
       "   Unadjusted Gross  year  length      genre  imdb_rating  n_votes  \\\n",
       "0          76408097  1941     125  Animation          7.8    80637   \n",
       "1         652270625  2015     124     Action          7.0   526118   \n",
       "2         134966411  1972     175      Crime          9.2  1400345   \n",
       "3         330252182  1994     142      Drama          8.8  1560561   \n",
       "4         102272727  1964     139     Comedy          7.8   136005   \n",
       "5         189969103  1978     110    Musical          7.2   203736   \n",
       "6          63595658  1965     130     Action          7.0    93506   \n",
       "7         535234033  2008     152     Action          9.0  2009298   \n",
       "8         141843612  1967      78  Animation          7.6   147287   \n",
       "9          51600000  1959      75  Animation          7.3   119347   \n",
       "\n",
       "      ...       Newmarket  Orion  Paramount  RKO  Sony  Summit_Entertainment  \\\n",
       "0     ...               0      0          0    0     0                     0   \n",
       "1     ...               0      0          0    0     0                     0   \n",
       "2     ...               0      0          1    0     0                     0   \n",
       "3     ...               0      0          1    0     0                     0   \n",
       "4     ...               0      0          0    0     0                     0   \n",
       "5     ...               0      0          1    0     0                     0   \n",
       "6     ...               0      0          0    0     0                     0   \n",
       "7     ...               0      0          0    0     0                     0   \n",
       "8     ...               0      0          0    0     0                     0   \n",
       "9     ...               0      0          0    0     0                     0   \n",
       "\n",
       "   TriStar  Universal  WB_New_Line  Warner_Bros  \n",
       "0        0          0            0            0  \n",
       "1        0          1            0            0  \n",
       "2        0          0            0            0  \n",
       "3        0          0            0            0  \n",
       "4        0          0            0            0  \n",
       "5        0          0            0            0  \n",
       "6        0          0            0            0  \n",
       "7        0          0            0            1  \n",
       "8        0          0            0            0  \n",
       "9        0          0            0            0  \n",
       "\n",
       "[10 rows x 53 columns]"
      ]
     },
     "execution_count": 54,
     "metadata": {},
     "output_type": "execute_result"
    }
   ],
   "source": [
    "#use concat() method to merge the movie_studios variable to the original dataframE\n",
    "imdb_box_office  = pd.concat([imdb_box_office, movie_studios], axis=1)\n",
    "\n",
    "imdb_box_office.head(10)"
   ]
  },
  {
   "cell_type": "markdown",
   "metadata": {},
   "source": [
    "# re-export the new dataframe"
   ]
  },
  {
   "cell_type": "code",
   "execution_count": 55,
   "metadata": {},
   "outputs": [],
   "source": [
    "imdb_box_office.to_csv('imdb_box_office_studio_indicators.csv')"
   ]
  },
  {
   "cell_type": "markdown",
   "metadata": {},
   "source": [
    "# Run some additional models to see whether the correlations change when factoring in different movie studios"
   ]
  },
  {
   "cell_type": "markdown",
   "metadata": {},
   "source": [
    "# Model 5: Multivariate OLS model with metascore, n_votes, and set of 20 movie studio indicators: reference group (i.e., the excluded movie studio) = Buena_Vista"
   ]
  },
  {
   "cell_type": "code",
   "execution_count": 72,
   "metadata": {},
   "outputs": [
    {
     "name": "stdout",
     "output_type": "stream",
     "text": [
      "                            OLS Regression Results                            \n",
      "==============================================================================\n",
      "Dep. Variable:         Adjusted Gross   R-squared:                       0.269\n",
      "Model:                            OLS   Adj. R-squared:                  0.193\n",
      "Method:                 Least Squares   F-statistic:                     4.208\n",
      "Date:                Tue, 05 Feb 2019   Prob (F-statistic):           2.46e-08\n",
      "Time:                        14:43:03   Log-Likelihood:                -4666.3\n",
      "No. Observations:                 236   AIC:                             9379.\n",
      "Df Residuals:                     213   BIC:                             9458.\n",
      "Df Model:                          22                                         \n",
      "Covariance Type:                  HC3                                         \n",
      "==========================================================================================\n",
      "                             coef    std err          z      P>|z|      [0.025      0.975]\n",
      "------------------------------------------------------------------------------------------\n",
      "const                   2.601e+08   3.48e+07      7.468      0.000    1.92e+08    3.28e+08\n",
      "metascore               1.404e+06    5.1e+05      2.755      0.006    4.05e+05     2.4e+06\n",
      "n_votes                   77.3000     29.696      2.603      0.009      19.097     135.503\n",
      "Columbia                 6.94e+07   3.79e+07      1.832      0.067   -4.85e+06    1.44e+08\n",
      "Disney                   1.99e+08   5.42e+07      3.673      0.000    9.28e+07    3.05e+08\n",
      "DreamWorks              4.505e+07   4.68e+07      0.963      0.336   -4.67e+07    1.37e+08\n",
      "Fox                     5.402e+07      3e+07      1.803      0.071   -4.72e+06    1.13e+08\n",
      "IFC                     1.825e+07   1.02e+10      0.002      0.999   -1.99e+10    1.99e+10\n",
      "Lionsgate               1.525e+06   3.64e+07      0.042      0.967   -6.99e+07     7.3e+07\n",
      "MGM                    -9.737e+06   6.28e+07     -0.155      0.877   -1.33e+08    1.13e+08\n",
      "Newmarket               1.978e+08   1.11e+10      0.018      0.986   -2.16e+10     2.2e+10\n",
      "New_Line               -6.094e+06   2.18e+07     -0.279      0.780   -4.88e+07    3.67e+07\n",
      "Orion                  -3.955e+07   8.12e+07     -0.487      0.626   -1.99e+08     1.2e+08\n",
      "Paramount                4.01e+07   2.46e+07      1.631      0.103    -8.1e+06    8.83e+07\n",
      "RKO                      1.41e+08   5.71e+07      2.470      0.014    2.91e+07    2.53e+08\n",
      "Summit_Entertainment    2.539e+06   1.87e+07      0.136      0.892   -3.41e+07    3.92e+07\n",
      "TriStar                 1.007e+07   2.76e+07      0.364      0.716   -4.41e+07    6.42e+07\n",
      "WB_New_Line            -7.855e+07   2.13e+07     -3.695      0.000    -1.2e+08   -3.69e+07\n",
      " Universal_Artists      5.834e+07    4.8e+07      1.216      0.224   -3.57e+07    1.52e+08\n",
      "Warner_Bros            -1.257e+07   1.87e+07     -0.673      0.501   -4.92e+07    2.41e+07\n",
      "Universal               4.154e+07   2.67e+07      1.553      0.120   -1.09e+07    9.39e+07\n",
      "American_International  9.127e+06   9.52e+10   9.59e-05      1.000   -1.87e+11    1.87e+11\n",
      "Sony                   -5.439e+06   2.81e+07     -0.193      0.847   -6.06e+07    4.97e+07\n",
      "==============================================================================\n",
      "Omnibus:                       18.595   Durbin-Watson:                   0.546\n",
      "Prob(Omnibus):                  0.000   Jarque-Bera (JB):               20.583\n",
      "Skew:                           0.693   Prob(JB):                     3.39e-05\n",
      "Kurtosis:                       3.413   Cond. No.                     8.40e+06\n",
      "==============================================================================\n",
      "\n",
      "Warnings:\n",
      "[1] Standard Errors are heteroscedasticity robust (HC3)\n",
      "[2] The condition number is large, 8.4e+06. This might indicate that there are\n",
      "strong multicollinearity or other numerical problems.\n"
     ]
    },
    {
     "name": "stderr",
     "output_type": "stream",
     "text": [
      "/Users/kevinallen/anaconda3/lib/python3.7/site-packages/statsmodels/base/model.py:1532: ValueWarning: covariance of constraints does not have full rank. The number of constraints is 22, but rank is 21\n",
      "  'rank is %d' % (J, J_), ValueWarning)\n"
     ]
    }
   ],
   "source": [
    "#import statsmodels library for linear regression model analysis\n",
    "import statsmodels.api as sm\n",
    "\n",
    "#define the dependent/outcome variable for 1st model\n",
    "#1st regression model will be a linear regression model with IMDB ratings as the single covariate\n",
    "Y5 = imdb_box_office['Adjusted Gross']\n",
    "\n",
    "#define the covariates for this model\n",
    "X5 = imdb_box_office[[ 'metascore',  'n_votes', 'Columbia', 'Disney', 'DreamWorks', 'Fox', 'IFC', 'Lionsgate','MGM', \n",
    "                      'Newmarket', 'New_Line', 'Orion','Paramount', 'RKO', 'Summit_Entertainment', 'TriStar', \n",
    "                      'WB_New_Line', ' Universal_Artists', 'Warner_Bros', 'Universal', 'American_International', 'Sony']]\n",
    "\n",
    "#add constant term by calling upon the statsmodels library\n",
    "X5 = sm.add_constant(X5)\n",
    "\n",
    "#apply ordinary least squares (OLS) estimation to this model\n",
    "#And derive the linear regression (OLS) models' results\n",
    "#Use heteroksedasticity robust standard errors to correct for any possible heteroskedasticity issues\n",
    "#this way, the estimated standard errors (SEs) will not be biased\n",
    "model5 = sm.OLS(Y5,X5).fit(cov_type='HC3')\n",
    "\n",
    "#print/display the entire regression results/output\n",
    "print(model5.summary())"
   ]
  },
  {
   "cell_type": "markdown",
   "metadata": {},
   "source": [
    "## Re-estimate VIF"
   ]
  },
  {
   "cell_type": "code",
   "execution_count": 73,
   "metadata": {},
   "outputs": [
    {
     "data": {
      "text/plain": [
       "const                     30.206164\n",
       "metascore                  1.364585\n",
       "n_votes                    1.340067\n",
       "Columbia                   1.241618\n",
       "Disney                     1.232634\n",
       "DreamWorks                 1.175506\n",
       "Fox                        1.396473\n",
       "IFC                        1.024931\n",
       "Lionsgate                  1.080136\n",
       "MGM                        1.093548\n",
       "Newmarket                  1.031406\n",
       "New_Line                   1.172817\n",
       "Orion                      1.051913\n",
       "Paramount                  1.506905\n",
       "RKO                        1.085670\n",
       "Summit_Entertainment       1.055509\n",
       "TriStar                    1.069173\n",
       "WB_New_Line                1.086123\n",
       " Universal_Artists         1.187702\n",
       "Warner_Bros                1.653161\n",
       "Universal                  1.484073\n",
       "American_International     1.057489\n",
       "Sony                       1.291530\n",
       "dtype: float64"
      ]
     },
     "execution_count": 73,
     "metadata": {},
     "output_type": "execute_result"
    }
   ],
   "source": [
    "#import pandas library to call upon the Series method\n",
    "import pandas as pd\n",
    "\n",
    "#import the VIF module from the statsmodels library\n",
    "from statsmodels.stats.outliers_influence import variance_inflation_factor\n",
    "\n",
    "\n",
    "#calculate the VIF for X5 (i.e., the covariates from the 5th multivariate OLS model):\n",
    "pd.Series([variance_inflation_factor(X5.values, i) for i in range(X5.shape[1])],\n",
    "          index=X5.columns)"
   ]
  },
  {
   "cell_type": "markdown",
   "metadata": {},
   "source": [
    "## Cummulatively, the VIF is high, but individually no single variable has an especially high VIF, with each well below 2. The high overall VIF is expected anyway because this model is running a set of inidcator variables that encompasses a very large portion of the dataset."
   ]
  },
  {
   "cell_type": "markdown",
   "metadata": {},
   "source": [
    "# Interpretation of results from Model 5:\n",
    "\n",
    "## Interestingly, both the metascore and n_votes covariates are now statistically significant, both at the 0.01 level. \n",
    "\n",
    "## The adjusted-R-squared coefficient is also quite a bit higher (by about 9%) than any of the previous regression models, suggesting that adding in the movie studio indicator variables has improved the overall fit of the model in terms of Adjusted Gross box office revenues. Namely, the covariates collectively explain 19.3% of the variation in the Adjusted Gross variable. \n",
    "\n",
    "## Several of the coefficients on the movie studio indicator variables demonstrate that different movie studios have had significantly different levels of box office revenues. For example, relative to Buena Vista, 2 movie studios had signficantly higher box office earnings: RKO and Disney. While the magnitudes for these 2 studio variables are not massive, each of them are still larger than that of any of the other variables that managed to attain at least a 0.01% level of signficance.\n",
    "\n",
    "## By contrast, Warner Bros New Line (WB_New_Line) showed a signficantly lower level of box office revenues. "
   ]
  },
  {
   "cell_type": "markdown",
   "metadata": {},
   "source": [
    "\n",
    "## The magnitude of the metascore variable is slightly smaller than in earlier models, but still fairly large. Namely, a 1-standard deviation increase in metascore ratings (i.e., ~15.6) would lead to a $21,902,400 expected increase in gross box office revenues, or roughly 20% of a 1-standard deviation increase in gross box office revenues. \n",
    "\n",
    "## While seemingly smaller in magnitude, a 1-standard deviation increase in the number of IMDB votes would lead to a somewhat higher higher level of box office earniings: namely, an expected $25,819,078 increase in box office earnings."
   ]
  },
  {
   "cell_type": "markdown",
   "metadata": {},
   "source": [
    "# Model 6: Multivariate OLS model with metascore, n_votes, and set of 20 movie studio indicators: reference group  = Sony"
   ]
  },
  {
   "cell_type": "code",
   "execution_count": 82,
   "metadata": {},
   "outputs": [
    {
     "name": "stdout",
     "output_type": "stream",
     "text": [
      "                            OLS Regression Results                            \n",
      "==============================================================================\n",
      "Dep. Variable:         Adjusted Gross   R-squared:                       0.269\n",
      "Model:                            OLS   Adj. R-squared:                  0.193\n",
      "Method:                 Least Squares   F-statistic:                     4.208\n",
      "Date:                Tue, 05 Feb 2019   Prob (F-statistic):           2.45e-08\n",
      "Time:                        14:56:40   Log-Likelihood:                -4666.3\n",
      "No. Observations:                 236   AIC:                             9379.\n",
      "Df Residuals:                     213   BIC:                             9458.\n",
      "Df Model:                          22                                         \n",
      "Covariance Type:                  HC3                                         \n",
      "==========================================================================================\n",
      "                             coef    std err          z      P>|z|      [0.025      0.975]\n",
      "------------------------------------------------------------------------------------------\n",
      "const                   2.546e+08   3.63e+07      7.013      0.000    1.83e+08    3.26e+08\n",
      "metascore               1.404e+06    5.1e+05      2.755      0.006    4.05e+05     2.4e+06\n",
      "n_votes                   77.3000     29.696      2.603      0.009      19.097     135.503\n",
      "Columbia                7.484e+07   4.49e+07      1.669      0.095   -1.31e+07    1.63e+08\n",
      "Disney                  2.044e+08   5.95e+07      3.434      0.001    8.77e+07    3.21e+08\n",
      "DreamWorks              5.049e+07   5.16e+07      0.978      0.328   -5.07e+07    1.52e+08\n",
      "Fox                     5.946e+07   3.71e+07      1.603      0.109   -1.32e+07    1.32e+08\n",
      "IFC                     2.369e+07   5.64e+09      0.004      0.997    -1.1e+10    1.11e+10\n",
      "Lionsgate               6.965e+06    4.3e+07      0.162      0.871   -7.73e+07    9.12e+07\n",
      "MGM                    -4.297e+06   6.71e+07     -0.064      0.949   -1.36e+08    1.27e+08\n",
      "Newmarket               2.032e+08   2.46e+09      0.082      0.934   -4.63e+09    5.03e+09\n",
      "New_Line               -6.549e+05   3.17e+07     -0.021      0.984   -6.28e+07    6.15e+07\n",
      "Orion                  -3.411e+07   8.48e+07     -0.402      0.687      -2e+08    1.32e+08\n",
      "Paramount               4.554e+07   3.31e+07      1.377      0.168   -1.93e+07     1.1e+08\n",
      "RKO                     1.465e+08   6.24e+07      2.348      0.019    2.42e+07    2.69e+08\n",
      "Summit_Entertainment    7.979e+06   2.75e+07      0.290      0.772   -4.59e+07    6.19e+07\n",
      "TriStar                 1.551e+07   3.49e+07      0.444      0.657   -5.29e+07     8.4e+07\n",
      "WB_New_Line            -7.311e+07   3.07e+07     -2.385      0.017   -1.33e+08    -1.3e+07\n",
      " Universal_Artists      6.378e+07   5.28e+07      1.208      0.227   -3.97e+07    1.67e+08\n",
      "Warner_Bros            -7.133e+06   2.91e+07     -0.245      0.806   -6.42e+07    4.99e+07\n",
      "Universal               4.697e+07   3.42e+07      1.373      0.170   -2.01e+07    1.14e+08\n",
      "American_International  1.457e+07   4.07e+10      0.000      1.000   -7.97e+10    7.98e+10\n",
      "Buena_Vista             5.439e+06   2.81e+07      0.193      0.847   -4.97e+07    6.06e+07\n",
      "==============================================================================\n",
      "Omnibus:                       18.595   Durbin-Watson:                   0.546\n",
      "Prob(Omnibus):                  0.000   Jarque-Bera (JB):               20.583\n",
      "Skew:                           0.693   Prob(JB):                     3.39e-05\n",
      "Kurtosis:                       3.413   Cond. No.                     1.03e+07\n",
      "==============================================================================\n",
      "\n",
      "Warnings:\n",
      "[1] Standard Errors are heteroscedasticity robust (HC3)\n",
      "[2] The condition number is large, 1.03e+07. This might indicate that there are\n",
      "strong multicollinearity or other numerical problems.\n"
     ]
    },
    {
     "name": "stderr",
     "output_type": "stream",
     "text": [
      "/Users/kevinallen/anaconda3/lib/python3.7/site-packages/statsmodels/base/model.py:1532: ValueWarning: covariance of constraints does not have full rank. The number of constraints is 22, but rank is 21\n",
      "  'rank is %d' % (J, J_), ValueWarning)\n"
     ]
    }
   ],
   "source": [
    "#import statsmodels library for linear regression model analysis\n",
    "import statsmodels.api as sm\n",
    "\n",
    "#define the dependent/outcome variable for 1st model\n",
    "#1st regression model will be a linear regression model with IMDB ratings as the single covariate\n",
    "Y6 = imdb_box_office['Adjusted Gross']\n",
    "\n",
    "#define the covariates for this model\n",
    "X6 = imdb_box_office[[ 'metascore', 'n_votes', 'Columbia', 'Disney', 'DreamWorks', 'Fox', 'IFC', 'Lionsgate','MGM', \n",
    "                      'Newmarket', 'New_Line', 'Orion','Paramount', 'RKO', 'Summit_Entertainment', 'TriStar', \n",
    "                      'WB_New_Line', ' Universal_Artists', 'Warner_Bros', 'Universal', 'American_International', 'Buena_Vista']]\n",
    "\n",
    "#add constant term by calling upon the statsmodels library\n",
    "X6 = sm.add_constant(X6)\n",
    "\n",
    "#apply ordinary least squares (OLS) estimation to this model\n",
    "#And derive the linear regression (OLS) models' results\n",
    "#Use heteroksedasticity robust standard errors to correct for any possible heteroskedasticity issues\n",
    "#this way, the estimated standard errors (SEs) will not be biased\n",
    "model6 = sm.OLS(Y6,X6).fit(cov_type='HC3')\n",
    "\n",
    "#print/display the entire regression results/output\n",
    "print(model6.summary())"
   ]
  },
  {
   "cell_type": "markdown",
   "metadata": {},
   "source": [
    "# Interpretation of Model 6:\n",
    "\n",
    "## Just like Model 5, both metascore and n_votes are highly signficant. This is expected since the only difference is the reference group; essentially the same variables are being run, with the only main differences being the magnitudes of the indicator variables and the intercept term.\n",
    "\n",
    "## Relative to Sony, Disney and RKO still outperformed it on the basis of gross box office revenue. Warner Bros New Line also once again lagged signficantly behind the curve, with a signficantly lower level of box office revenues."
   ]
  },
  {
   "cell_type": "markdown",
   "metadata": {},
   "source": [
    "# Model 7: Multivariate OLS model with metascore, n_votes, and set of 20 movie studio indicators: reference group = MGM"
   ]
  },
  {
   "cell_type": "code",
   "execution_count": 84,
   "metadata": {},
   "outputs": [
    {
     "name": "stdout",
     "output_type": "stream",
     "text": [
      "                            OLS Regression Results                            \n",
      "==============================================================================\n",
      "Dep. Variable:         Adjusted Gross   R-squared:                       0.269\n",
      "Model:                            OLS   Adj. R-squared:                  0.193\n",
      "Method:                 Least Squares   F-statistic:                     4.208\n",
      "Date:                Tue, 05 Feb 2019   Prob (F-statistic):           2.46e-08\n",
      "Time:                        14:57:22   Log-Likelihood:                -4666.3\n",
      "No. Observations:                 236   AIC:                             9379.\n",
      "Df Residuals:                     213   BIC:                             9458.\n",
      "Df Model:                          22                                         \n",
      "Covariance Type:                  HC3                                         \n",
      "==========================================================================================\n",
      "                             coef    std err          z      P>|z|      [0.025      0.975]\n",
      "------------------------------------------------------------------------------------------\n",
      "const                   2.503e+08   6.96e+07      3.594      0.000    1.14e+08    3.87e+08\n",
      "metascore               1.404e+06    5.1e+05      2.755      0.006    4.05e+05     2.4e+06\n",
      "n_votes                   77.3000     29.696      2.603      0.009      19.097     135.503\n",
      "Columbia                7.914e+07   7.14e+07      1.108      0.268   -6.08e+07    2.19e+08\n",
      "Disney                  2.087e+08    8.1e+07      2.578      0.010    5.01e+07    3.67e+08\n",
      "DreamWorks              5.479e+07   7.68e+07      0.714      0.475   -9.57e+07    2.05e+08\n",
      "Fox                     6.375e+07    6.8e+07      0.938      0.348   -6.95e+07    1.97e+08\n",
      "IFC                     2.799e+07   2.72e+10      0.001      0.999   -5.32e+10    5.33e+10\n",
      "Lionsgate               1.126e+07   7.09e+07      0.159      0.874   -1.28e+08     1.5e+08\n",
      "Sony                    4.297e+06   6.71e+07      0.064      0.949   -1.27e+08    1.36e+08\n",
      "Newmarket               2.075e+08    1.5e+10      0.014      0.989   -2.93e+10    2.97e+10\n",
      "New_Line                3.643e+06   6.45e+07      0.056      0.955   -1.23e+08     1.3e+08\n",
      "Orion                  -2.981e+07   1.02e+08     -0.294      0.769   -2.29e+08    1.69e+08\n",
      "Paramount               4.984e+07   6.58e+07      0.757      0.449   -7.92e+07    1.79e+08\n",
      "RKO                     1.508e+08   8.36e+07      1.803      0.071   -1.31e+07    3.15e+08\n",
      "Summit_Entertainment    1.228e+07   6.35e+07      0.193      0.847   -1.12e+08    1.37e+08\n",
      "TriStar                  1.98e+07   6.67e+07      0.297      0.766   -1.11e+08     1.5e+08\n",
      "WB_New_Line            -6.881e+07   6.43e+07     -1.070      0.285   -1.95e+08    5.72e+07\n",
      " Universal_Artists      6.808e+07   7.78e+07      0.875      0.382   -8.45e+07    2.21e+08\n",
      "Warner_Bros            -2.835e+06   6.35e+07     -0.045      0.964   -1.27e+08    1.22e+08\n",
      "Universal               5.127e+07   6.64e+07      0.773      0.440   -7.88e+07    1.81e+08\n",
      "American_International  1.886e+07   3.92e+10      0.000      1.000   -7.68e+10    7.68e+10\n",
      "Buena_Vista             9.737e+06   6.28e+07      0.155      0.877   -1.13e+08    1.33e+08\n",
      "==============================================================================\n",
      "Omnibus:                       18.595   Durbin-Watson:                   0.546\n",
      "Prob(Omnibus):                  0.000   Jarque-Bera (JB):               20.583\n",
      "Skew:                           0.693   Prob(JB):                     3.39e-05\n",
      "Kurtosis:                       3.413   Cond. No.                     1.84e+07\n",
      "==============================================================================\n",
      "\n",
      "Warnings:\n",
      "[1] Standard Errors are heteroscedasticity robust (HC3)\n",
      "[2] The condition number is large, 1.84e+07. This might indicate that there are\n",
      "strong multicollinearity or other numerical problems.\n"
     ]
    },
    {
     "name": "stderr",
     "output_type": "stream",
     "text": [
      "/Users/kevinallen/anaconda3/lib/python3.7/site-packages/statsmodels/base/model.py:1532: ValueWarning: covariance of constraints does not have full rank. The number of constraints is 22, but rank is 21\n",
      "  'rank is %d' % (J, J_), ValueWarning)\n"
     ]
    }
   ],
   "source": [
    "#import statsmodels library for linear regression model analysis\n",
    "import statsmodels.api as sm\n",
    "\n",
    "#define the dependent/outcome variable for 1st model\n",
    "#1st regression model will be a linear regression model with IMDB ratings as the single covariate\n",
    "Y7 = imdb_box_office['Adjusted Gross']\n",
    "\n",
    "#define the covariates for this model\n",
    "X7 = imdb_box_office[[ 'metascore',  'n_votes', 'Columbia', 'Disney', 'DreamWorks', 'Fox', 'IFC', 'Lionsgate','Sony', \n",
    "                      'Newmarket', 'New_Line', 'Orion','Paramount', 'RKO', 'Summit_Entertainment', 'TriStar', \n",
    "                      'WB_New_Line', ' Universal_Artists', 'Warner_Bros', 'Universal', 'American_International', 'Buena_Vista']]\n",
    "\n",
    "#add constant term by calling upon the statsmodels library\n",
    "X7 = sm.add_constant(X7)\n",
    "\n",
    "#apply ordinary least squares (OLS) estimation to this model\n",
    "#And derive the linear regression (OLS) models' results\n",
    "#Use heteroksedasticity robust standard errors to correct for any possible heteroskedasticity issues\n",
    "#this way, the estimated standard errors (SEs) will not be biased\n",
    "model7 = sm.OLS(Y7,X7).fit(cov_type='HC3')\n",
    "\n",
    "#print/display the entire regression results/output\n",
    "print(model7.summary())"
   ]
  },
  {
   "cell_type": "markdown",
   "metadata": {},
   "source": [
    "# Interpretation of Model 7:\n",
    "\n",
    "## Relative to MGM, only Disney managed to solidly outperform it in terms of gross box office revenue.  Interestingly, however, none of the studios showed a signficnatly lower level of box office earnings, so MGM apparently has gained box office earnings at this highest tier quite similarly to that of most movie studios, on average. "
   ]
  },
  {
   "cell_type": "markdown",
   "metadata": {},
   "source": [
    "# Model 8: Multivariate OLS model with metascore, n_votes, and set of 20 movie studio indicators: reference group = Disney"
   ]
  },
  {
   "cell_type": "code",
   "execution_count": 87,
   "metadata": {},
   "outputs": [
    {
     "name": "stdout",
     "output_type": "stream",
     "text": [
      "                            OLS Regression Results                            \n",
      "==============================================================================\n",
      "Dep. Variable:         Adjusted Gross   R-squared:                       0.269\n",
      "Model:                            OLS   Adj. R-squared:                  0.193\n",
      "Method:                 Least Squares   F-statistic:                     4.212\n",
      "Date:                Tue, 05 Feb 2019   Prob (F-statistic):           2.40e-08\n",
      "Time:                        15:36:49   Log-Likelihood:                -4666.3\n",
      "No. Observations:                 236   AIC:                             9379.\n",
      "Df Residuals:                     213   BIC:                             9458.\n",
      "Df Model:                          22                                         \n",
      "Covariance Type:                  HC3                                         \n",
      "==========================================================================================\n",
      "                             coef    std err          z      P>|z|      [0.025      0.975]\n",
      "------------------------------------------------------------------------------------------\n",
      "const                    4.59e+08   6.88e+07      6.675      0.000    3.24e+08    5.94e+08\n",
      "metascore               1.404e+06    5.1e+05      2.755      0.006    4.05e+05     2.4e+06\n",
      "n_votes                   77.3000     29.696      2.603      0.009      19.097     135.503\n",
      "Columbia               -1.296e+08   6.08e+07     -2.133      0.033   -2.49e+08   -1.05e+07\n",
      "MGM                    -2.087e+08    8.1e+07     -2.578      0.010   -3.67e+08   -5.01e+07\n",
      "DreamWorks             -1.539e+08   7.12e+07     -2.162      0.031   -2.93e+08   -1.44e+07\n",
      "Fox                     -1.45e+08   5.98e+07     -2.424      0.015   -2.62e+08   -2.78e+07\n",
      "IFC                    -1.807e+08   2.62e+09     -0.069      0.945   -5.31e+09    4.95e+09\n",
      "Lionsgate              -1.975e+08   6.41e+07     -3.082      0.002   -3.23e+08   -7.19e+07\n",
      "Sony                   -2.044e+08   5.95e+07     -3.434      0.001   -3.21e+08   -8.77e+07\n",
      "Newmarket              -1.189e+06   6.05e+08     -0.002      0.998   -1.19e+09    1.19e+09\n",
      "New_Line               -2.051e+08   5.77e+07     -3.553      0.000   -3.18e+08    -9.2e+07\n",
      "Orion                  -2.385e+08   9.48e+07     -2.517      0.012   -4.24e+08   -5.28e+07\n",
      "Paramount              -1.589e+08   5.71e+07     -2.782      0.005   -2.71e+08    -4.7e+07\n",
      "RKO                    -5.795e+07   7.31e+07     -0.793      0.428   -2.01e+08    8.53e+07\n",
      "Summit_Entertainment   -1.964e+08   5.65e+07     -3.474      0.001   -3.07e+08   -8.56e+07\n",
      "TriStar                -1.889e+08   6.01e+07     -3.143      0.002   -3.07e+08   -7.11e+07\n",
      "WB_New_Line            -2.775e+08   5.75e+07     -4.823      0.000    -3.9e+08   -1.65e+08\n",
      " Universal_Artists     -1.406e+08    7.1e+07     -1.981      0.048    -2.8e+08   -1.49e+06\n",
      "Warner_Bros            -2.116e+08   5.54e+07     -3.821      0.000    -3.2e+08   -1.03e+08\n",
      "Universal              -1.575e+08   5.84e+07     -2.694      0.007   -2.72e+08   -4.29e+07\n",
      "American_International -1.899e+08   8.08e+09     -0.024      0.981    -1.6e+10    1.56e+10\n",
      "Buena_Vista             -1.99e+08   5.42e+07     -3.673      0.000   -3.05e+08   -9.28e+07\n",
      "==============================================================================\n",
      "Omnibus:                       18.595   Durbin-Watson:                   0.546\n",
      "Prob(Omnibus):                  0.000   Jarque-Bera (JB):               20.583\n",
      "Skew:                           0.693   Prob(JB):                     3.39e-05\n",
      "Kurtosis:                       3.413   Cond. No.                     1.38e+07\n",
      "==============================================================================\n",
      "\n",
      "Warnings:\n",
      "[1] Standard Errors are heteroscedasticity robust (HC3)\n",
      "[2] The condition number is large, 1.38e+07. This might indicate that there are\n",
      "strong multicollinearity or other numerical problems.\n"
     ]
    },
    {
     "name": "stderr",
     "output_type": "stream",
     "text": [
      "/Users/kevinallen/anaconda3/lib/python3.7/site-packages/statsmodels/base/model.py:1532: ValueWarning: covariance of constraints does not have full rank. The number of constraints is 22, but rank is 21\n",
      "  'rank is %d' % (J, J_), ValueWarning)\n"
     ]
    }
   ],
   "source": [
    "#import statsmodels library for linear regression model analysis\n",
    "import statsmodels.api as sm\n",
    "\n",
    "#define the dependent/outcome variable for 1st model\n",
    "#1st regression model will be a linear regression model with IMDB ratings as the single covariate\n",
    "Y8 = imdb_box_office['Adjusted Gross']\n",
    "\n",
    "#define the covariates for this model\n",
    "X8 = imdb_box_office[[ 'metascore',  'n_votes', 'Columbia', 'MGM', 'DreamWorks', 'Fox', 'IFC', 'Lionsgate','Sony', \n",
    "                      'Newmarket', 'New_Line', 'Orion','Paramount', 'RKO', 'Summit_Entertainment', 'TriStar', \n",
    "                      'WB_New_Line', ' Universal_Artists', 'Warner_Bros', 'Universal', 'American_International', 'Buena_Vista']]\n",
    "\n",
    "#add constant term by calling upon the statsmodels library\n",
    "X8 = sm.add_constant(X8)\n",
    "\n",
    "#apply ordinary least squares (OLS) estimation to this model\n",
    "#And derive the linear regression (OLS) models' results\n",
    "#Use heteroksedasticity robust standard errors to correct for any possible heteroskedasticity issues\n",
    "#this way, the estimated standard errors (SEs) will not be biased\n",
    "model8 = sm.OLS(Y8,X8).fit(cov_type='HC3')\n",
    "\n",
    "#print/display the entire regression results/output\n",
    "print(model8.summary())"
   ]
  },
  {
   "cell_type": "markdown",
   "metadata": {},
   "source": [
    "# Interpretation of Model 8:\n",
    "\n",
    "## Relative to Disney, a very large portion of the other movie studios have signficantly lower levels of box office earnings within this highest tier of box office earners. \n",
    "\n",
    "## Only American International, RKO, Newmarket, and IFC gained gross box office earnings that were not signifcantly different from Disney at the 0.05 level. Judged by a more conservative standard, Universal Artists did not earn less gross box office revenue than Disney at the 0.01 level, but did earn signficantly less at the 0.05 level."
   ]
  },
  {
   "cell_type": "markdown",
   "metadata": {},
   "source": [
    "# Discussion of overall regression results, statistics, and plots:\n",
    "\n",
    "## Overall, metascores and the number of IMDB votes, appear to play a somewhat significant factor in affecting gross box office revenues. IMDB ratings themselves do not appear to have a signficant impact, but do have a moderate positive correlation with gross box office earnings. While these effects are not very large in magnitude, the plots, summary statistics, and regression models' results suggest that higher metascore ratings as well as a higher number of IMDB votes will both lead to higher gross box office earnings. However, other factors appear to play a fairly large role. For example, Model 4 shows that the number of IMDB votes and metascores collectively only explain about 10% of the variation in gross box office earnings. Therefore, other factors must exist that explain the other ~90% of the variation in the data.\n",
    "\n",
    "## Part of this variaiton is clearly explained by differences in box office earnings for different movie studios. As the summary statistics and OLS Models 5-8 strongly suggested, there are statistically different levels of gross box office earnings for some of the movie studios (which are also mdoerately large in magnitude). For example, Disney in particular tended to earn signficantly higher gross box office revenues than all but 20% of the other movie studios in this dataset."
   ]
  }
 ],
 "metadata": {
  "kernelspec": {
   "display_name": "Python 3",
   "language": "python",
   "name": "python3"
  },
  "language_info": {
   "codemirror_mode": {
    "name": "ipython",
    "version": 3
   },
   "file_extension": ".py",
   "mimetype": "text/x-python",
   "name": "python",
   "nbconvert_exporter": "python",
   "pygments_lexer": "ipython3",
   "version": "3.7.1"
  }
 },
 "nbformat": 4,
 "nbformat_minor": 2
}
